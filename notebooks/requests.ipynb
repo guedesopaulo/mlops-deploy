{
 "cells": [
  {
   "cell_type": "code",
   "execution_count": 12,
   "metadata": {},
   "outputs": [
    {
     "name": "stdout",
     "output_type": "stream",
     "text": [
      "{\n",
      "  \"preco\": 191436.53503831406\n",
      "}\n",
      "\n"
     ]
    }
   ],
   "source": [
    "import requests\n",
    "import json\n",
    "\n",
    "import requests.auth\n",
    "\n",
    "url = \"http://127.0.0.1:5000/cotacao/\"\n",
    "\n",
    "payload = json.dumps({\n",
    "  \"tamanho\": 120,\n",
    "  \"ano\": 2001,\n",
    "  \"garagem\": 2\n",
    "})\n",
    "headers = {\n",
    "  'Content-Type': 'application/json'\n",
    "}\n",
    "\n",
    "auth = requests.auth.HTTPBasicAuth('paulo', 'alura')\n",
    "\n",
    "response = requests.request(\"POST\", url, headers=headers, data=payload, auth=auth)\n",
    "\n",
    "print(response.text)\n"
   ]
  },
  {
   "cell_type": "code",
   "execution_count": null,
   "metadata": {},
   "outputs": [],
   "source": []
  }
 ],
 "metadata": {
  "kernelspec": {
   "display_name": "ml_apis",
   "language": "python",
   "name": "python3"
  },
  "language_info": {
   "codemirror_mode": {
    "name": "ipython",
    "version": 3
   },
   "file_extension": ".py",
   "mimetype": "text/x-python",
   "name": "python",
   "nbconvert_exporter": "python",
   "pygments_lexer": "ipython3",
   "version": "3.12.8"
  }
 },
 "nbformat": 4,
 "nbformat_minor": 2
}
